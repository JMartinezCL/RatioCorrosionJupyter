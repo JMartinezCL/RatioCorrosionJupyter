{
 "cells": [
  {
   "cell_type": "markdown",
   "metadata": {},
   "source": [
    "# Modelado de curvas de polarización que no exhiben una región de Tafel"
   ]
  },
  {
   "cell_type": "markdown",
   "metadata": {},
   "source": [
    "## Librerias a utilizar"
   ]
  },
  {
   "cell_type": "code",
   "execution_count": 1,
   "metadata": {},
   "outputs": [],
   "source": [
    "from openpyxl import load_workbook as hoja_calculo\n",
    "import numpy as np\n",
    "import math as matematica\n",
    "from matplotlib import pyplot as graficadorCaceres\n",
    "from matplotlib import pyplot as graficadorBeta\n",
    "from matplotlib import pyplot as graficadorMaclaurin\n",
    "from matplotlib import pyplot as graficador3modelos\n",
    "import pandas as pd\n",
    "import scipy.optimize as optimization\n",
    "import os\n",
    "import shutil"
   ]
  },
  {
   "cell_type": "markdown",
   "metadata": {},
   "source": [
    "## Nombre del archivo Excel de donde se cargaran los datos"
   ]
  },
  {
   "cell_type": "markdown",
   "metadata": {},
   "source": [
    "## Ingrese el directorio donde se encuentra el archivo que va a cargar\n",
    "```\n",
    "La ruta debe finalizar con el caracter \"/\"\n",
    "```\n",
    "```\n",
    "Si el archivo se encuentra en el mismo directorio que el ipython notebook, debe quedar rutaDatosOrigen = \"\"\n",
    "```\n"
   ]
  },
  {
   "cell_type": "code",
   "execution_count": 2,
   "metadata": {},
   "outputs": [],
   "source": [
    "rutaDatosOrigen = \"C:/Users/PC/Documents/Espacio de Trabajo/RatioCorrosion/RC_Jupyter/Archivos/\""
   ]
  },
  {
   "cell_type": "markdown",
   "metadata": {},
   "source": [
    "### Ingrese el nombre del archivo desde donde se cargaran los datos (sin la extension)"
   ]
  },
  {
   "cell_type": "code",
   "execution_count": 3,
   "metadata": {},
   "outputs": [],
   "source": [
    "nombreArchivo = \"datos2Arreglado\""
   ]
  },
  {
   "cell_type": "code",
   "execution_count": 4,
   "metadata": {
    "scrolled": true
   },
   "outputs": [],
   "source": [
    "archivo = hoja_calculo( rutaDatosOrigen + nombreArchivo + \".xlsx\", read_only=True)\n",
    "hoja = archivo.worksheets[0]\n",
    "\n",
    "listaVoltaje = []\n",
    "listaAmperaje = []"
   ]
  },
  {
   "cell_type": "markdown",
   "metadata": {},
   "source": [
    "## Creacion carpeta donde se guardaran los resultados"
   ]
  },
  {
   "cell_type": "code",
   "execution_count": 5,
   "metadata": {},
   "outputs": [],
   "source": [
    "if( os.path.exists(nombreArchivo) ) :\n",
    "    shutil.rmtree(nombreArchivo)\n",
    "if( os.path.exists(nombreArchivo) == False ) :\n",
    "    os.mkdir(nombreArchivo)"
   ]
  },
  {
   "cell_type": "markdown",
   "metadata": {},
   "source": [
    "## Lectura de datos"
   ]
  },
  {
   "cell_type": "code",
   "execution_count": 6,
   "metadata": {},
   "outputs": [],
   "source": [
    "for fila in hoja.iter_rows():\n",
    "    if (isinstance(fila[0].value, int) or isinstance(fila[0].value, float)) and (isinstance(fila[2].value, int) or isinstance(fila[2].value, float)):\n",
    "        listaVoltaje.append(fila[0].value)\n",
    "        listaAmperaje.append(fila[2].value)"
   ]
  },
  {
   "cell_type": "markdown",
   "metadata": {},
   "source": [
    "## Calculo Voltaje y Amperaje "
   ]
  },
  {
   "cell_type": "code",
   "execution_count": 7,
   "metadata": {},
   "outputs": [],
   "source": [
    "#areaExpuesta = 2.5133 \n",
    "areaExpuesta = 0.1257\n",
    "#areaExpuesta = 1"
   ]
  },
  {
   "cell_type": "code",
   "execution_count": 8,
   "metadata": {},
   "outputs": [],
   "source": [
    "eVAgCl = np.array(listaVoltaje, float)\n",
    "iAexp = np.array(listaAmperaje, float)\n",
    "eVSHE = eVAgCl + 0.237\n",
    "iAAcm2exp = iAexp /areaExpuesta"
   ]
  },
  {
   "cell_type": "markdown",
   "metadata": {},
   "source": [
    "## Calculo Experimental"
   ]
  },
  {
   "cell_type": "code",
   "execution_count": 9,
   "metadata": {},
   "outputs": [],
   "source": [
    "absiAexp = np.absolute(iAAcm2exp)\n",
    "logABSiAexp = np.log10(absiAexp)"
   ]
  },
  {
   "cell_type": "markdown",
   "metadata": {},
   "source": [
    "# Ajuste Modelo De Caceres \n",
    "$$ $$\n",
    "$$ $$\n",
    "$$i_{t} = \\frac{-i_{o,O2} exp-2.3(\\frac{E-E_{eq,O2}}{tc})}{1+(\\frac{i_{o,O2}}{i_{l,O2}}) exp-2.3(\\frac{E-E_{eq,O2}}{tc})} + i_{o,Fe} exp2.3(\\frac{E-E_{eq,Fe}}{ta})$$"
   ]
  },
  {
   "cell_type": "markdown",
   "metadata": {},
   "source": [
    "## Función Objetivo "
   ]
  },
  {
   "cell_type": "code",
   "execution_count": 10,
   "metadata": {},
   "outputs": [],
   "source": [
    "def caceres(eVSHE, io, iL, iFe, tc, ta):  \n",
    "    modeloCatodicoA = -io*(np.exp(-2.3*(eVSHE-0.762)/tc))\n",
    "    modeloCatodicoB = 1+((io/iL)*(np.exp(-2.3*(eVSHE-0.762)/tc)))\n",
    "    modeloCatodicoAdivididoB = modeloCatodicoA / modeloCatodicoB\n",
    "    modeloAnodo = iFe*(np.exp(2.3*(eVSHE+ 0.614)/ta))\n",
    "    iAAcm2fit = modeloCatodicoAdivididoB + modeloAnodo   \n",
    "    return(iAAcm2fit)"
   ]
  },
  {
   "cell_type": "markdown",
   "metadata": {},
   "source": [
    "## Restricciones de los coeficientes \n",
    "Debe definir los limites inferior y superior de cada variable en el siguiente orden:\n",
    "$$[ \\hspace{0.3cm} i_{o,O2} ,\\hspace{0.3cm} i_{l,O2} , \\hspace{0.3cm} i_{o,Fe} , \\hspace{0.3cm} tc , \\hspace{0.3cm} ta \\hspace{0.3cm} ]$$"
   ]
  },
  {
   "cell_type": "code",
   "execution_count": 11,
   "metadata": {},
   "outputs": [],
   "source": [
    "limiteInferiorCaceres = [0.0001,0.5,0.00001,0.1,0.18]\n",
    "limiteSuperiorCaceres = [0.1,1,1,3,1]"
   ]
  },
  {
   "cell_type": "markdown",
   "metadata": {},
   "source": [
    "## Calculo del modelo"
   ]
  },
  {
   "cell_type": "code",
   "execution_count": 12,
   "metadata": {},
   "outputs": [],
   "source": [
    "valoresAjustadosCaceres, pcov1 =optimization.curve_fit(caceres, eVSHE, iAAcm2exp,bounds=(limiteInferiorCaceres,limiteSuperiorCaceres),method='trf')"
   ]
  },
  {
   "cell_type": "markdown",
   "metadata": {},
   "source": [
    "## Calculo del Logaritmo"
   ]
  },
  {
   "cell_type": "code",
   "execution_count": 13,
   "metadata": {},
   "outputs": [],
   "source": [
    "valoresModeloCaceresFit = caceres(eVSHE, *valoresAjustadosCaceres)\n",
    "valoresAbsolutosModeloCaceres = np.absolute(valoresModeloCaceresFit)\n",
    "valoresLogaritmoModeloCaceres = np.log10(valoresAbsolutosModeloCaceres)\n",
    "valoresModeloCaceresLog = np.asarray(valoresLogaritmoModeloCaceres)"
   ]
  },
  {
   "cell_type": "markdown",
   "metadata": {},
   "source": [
    "# Ajuste Modelo Beta\n",
    "$$ $$\n",
    "$$ $$\n",
    "$$C_{1} = 2.303 i_{corr}({(\\frac{1}{b_{a}})+(\\frac{1}{b_{c}})(1-\\beta)})$$\n",
    "$$ $$\n",
    "$$2C_{2} = 5.303 i_{corr}({(\\frac{1}{b_{a}})^2-(\\frac{1}{b_{c}})^2(1+3\\beta-2\\beta^2)})$$\n",
    "$$ $$\n",
    "$$6C_{3} = 12.214 i_{corr}({(\\frac{1}{b_{a}})^3+(\\frac{1}{b_{c}})^3(1-7\\beta+12\\beta^2-6\\beta^3)})$$\n",
    "$$ $$\n",
    "$$24C_{4} = 28.13 i_{corr}({(\\frac{1}{b_{a}})^4-(\\frac{1}{b_{c}})^4(1+15\\beta-50\\beta^2+60\\beta^3-24\\beta^4)})$$"
   ]
  },
  {
   "cell_type": "markdown",
   "metadata": {},
   "source": [
    "## Función Objetivo "
   ]
  },
  {
   "cell_type": "code",
   "execution_count": 14,
   "metadata": {},
   "outputs": [],
   "source": [
    "def beta(eVSHE, icorr, Ecorr, ba, Beta, bc):  \n",
    "    c1 = 2.3*icorr*((1/ba)+(1/bc)*(1-Beta))\n",
    "    c2 = (5.303/2)*icorr*(matematica.pow((1/ba),2)-matematica.pow((1/bc),2)*(1+(3*Beta)-(2*matematica.pow(Beta,2))))\n",
    "    c3 = (12.214/6)*icorr*(matematica.pow((1/ba),3)+matematica.pow((1/bc),3)*(1-(7*Beta)+(12*matematica.pow(Beta,2))-(6*matematica.pow(Beta,3))))                        \n",
    "    c4 = (28.13/24)*icorr*(matematica.pow((1/ba),4)-(matematica.pow((1/bc),4))*(1+(15*Beta)-(50*matematica.pow(Beta,2))+(60*matematica.pow(Beta,3))-(24*matematica.pow(Beta,4))))\n",
    "    iFit = (c1*(eVSHE-Ecorr))+(c2*np.power((eVSHE-Ecorr),2))+(c3*np.power((eVSHE-Ecorr),3))+(c4*np.power((eVSHE-Ecorr),4))\n",
    "    return(iFit)    "
   ]
  },
  {
   "cell_type": "markdown",
   "metadata": {},
   "source": [
    "## Restricciones de los coeficientes\n",
    "Debe definir los limites inferior y superior de cada variable en el siguiente orden:\n",
    "$$[ \\hspace{0.3cm} i_{corr} ,\\hspace{0.3cm} E_{corr} , \\hspace{0.3cm} ba , \\hspace{0.3cm} \\beta, \\hspace{0.3cm} bc \\hspace{0.3cm} ]$$"
   ]
  },
  {
   "cell_type": "code",
   "execution_count": 15,
   "metadata": {},
   "outputs": [],
   "source": [
    "limiteInferiorBeta = [0.1,-0.250,0.00001,0.04,0.18]\n",
    "limiteSuperiorBeta = [3,-0.218,1,0.75,1]"
   ]
  },
  {
   "cell_type": "markdown",
   "metadata": {},
   "source": [
    "## Calculo del modelo "
   ]
  },
  {
   "cell_type": "code",
   "execution_count": 16,
   "metadata": {},
   "outputs": [],
   "source": [
    "valoresAjustadosBeta, pcov2 =optimization.curve_fit(beta, eVSHE, iAAcm2exp,bounds=(limiteInferiorBeta,limiteSuperiorBeta),method='trf')"
   ]
  },
  {
   "cell_type": "markdown",
   "metadata": {},
   "source": [
    "## Calculo del Logaritmo"
   ]
  },
  {
   "cell_type": "code",
   "execution_count": 17,
   "metadata": {},
   "outputs": [],
   "source": [
    "valoresModeloBetaFit = beta(eVSHE, *valoresAjustadosBeta)\n",
    "valoresAbsolutosModeloBeta = np.absolute(valoresModeloBetaFit)\n",
    "valoresLogaritmoModeloBeta = np.log10(valoresAbsolutosModeloBeta)\n",
    "valoresModeloBetaLog = np.asarray(valoresLogaritmoModeloBeta)"
   ]
  },
  {
   "cell_type": "markdown",
   "metadata": {},
   "source": [
    "# Ajuste Modelo Maclaurin"
   ]
  },
  {
   "cell_type": "markdown",
   "metadata": {},
   "source": [
    "## Función Objetivo \n",
    "$$ $$\n",
    "$$ $$\n",
    "$$C_{0} = 0$$\n",
    "$$ $$\n",
    "$$C_{1} = a_{1}\\lbrace a_{2}+a_{3}(1-\\beta)\\rbrace$$\n",
    "$$ $$\n",
    "$$C_{2} = a_{1}\\lbrace a_{2}^2-a_{3}^2(1-3\\beta+2\\beta^2)\\rbrace$$\n",
    "$$ $$\n",
    "$$C_{3} = a_{1}\\lbrace a_{2}^3-a_{3}^3(1-7\\beta+12\\beta^2-6\\beta^3) \\rbrace$$\n",
    "$$ $$\n",
    "$$C_{4} = a_{1}\\lbrace a_{2}^4-a_{3}^4(1-15\\beta+50\\beta^2-60\\beta^3+24\\beta^4) \\rbrace$$"
   ]
  },
  {
   "cell_type": "code",
   "execution_count": 18,
   "metadata": {},
   "outputs": [],
   "source": [
    "def maclaurin(eVSHE, icorr, Ecorr, ba, Beta, bc):  \n",
    "    c1=2.3*icorr*((1/ba)+(1/bc)*(1-Beta))\n",
    "    c2=(5.303/2)*icorr*(matematica.pow((1/ba),2)-matematica.pow((1/bc),2)*(1-(3*Beta)+(2*matematica.pow(Beta,2))))\n",
    "    c3=(12.214/6)*icorr*(matematica.pow((1/ba),3)+matematica.pow((1/bc),3)*(1-(7*Beta)+(12*matematica.pow(Beta,2))-(6*matematica.pow(Beta,3))))                        \n",
    "    c4=(28.13/24)*icorr*(matematica.pow((1/ba),4)-(matematica.pow((1/bc),4))*(1-(15*Beta)+(50*matematica.pow(Beta,2))-(60*matematica.pow(Beta,3))+(24*matematica.pow(Beta,4))))\n",
    "    iFit=(c1*(eVSHE-Ecorr))+(c2*np.power((eVSHE-Ecorr),2))+(c3*np.power((eVSHE-Ecorr),3))+(c4*np.power((eVSHE-Ecorr),4))\n",
    "    return(iFit)  "
   ]
  },
  {
   "cell_type": "markdown",
   "metadata": {},
   "source": [
    "## Restricciones de los coeficientes\n",
    "Debe definir los limites inferior y superior de cada variable en el siguiente orden:\n",
    "$$[ \\hspace{0.3cm} i_{corr} ,\\hspace{0.3cm} E_{corr} , \\hspace{0.3cm} ba , \\hspace{0.3cm} \\beta, \\hspace{0.3cm} bc \\hspace{0.3cm} ]$$"
   ]
  },
  {
   "cell_type": "code",
   "execution_count": 19,
   "metadata": {},
   "outputs": [],
   "source": [
    "limiteInferiorMaclaurin = [0.0187,-0.244,0.00001,0.04,0.18]\n",
    "limiteSuperiorMaclaurin = [3,-0.218,1,0.75,1]"
   ]
  },
  {
   "cell_type": "markdown",
   "metadata": {},
   "source": [
    "## Calculo del modelo"
   ]
  },
  {
   "cell_type": "code",
   "execution_count": 20,
   "metadata": {},
   "outputs": [],
   "source": [
    "valoresAjustadosMaclaurin, pcov =optimization.curve_fit(maclaurin, eVSHE, iAAcm2exp,bounds=(limiteInferiorMaclaurin,limiteSuperiorMaclaurin),method='trf')"
   ]
  },
  {
   "cell_type": "markdown",
   "metadata": {},
   "source": [
    "## Calculo del Logaritmo "
   ]
  },
  {
   "cell_type": "code",
   "execution_count": 21,
   "metadata": {},
   "outputs": [],
   "source": [
    "valoresModeloMaclaurinFit = maclaurin(eVSHE, *valoresAjustadosMaclaurin)\n",
    "valoresAbsolutosModeloMaclaurin = np.absolute(valoresModeloMaclaurinFit)\n",
    "valoresLogaritmoModeloMaclaurin = np.log10(valoresAbsolutosModeloMaclaurin)\n",
    "valoresModeloMaclaurinLog = np.asarray(valoresLogaritmoModeloMaclaurin)"
   ]
  },
  {
   "cell_type": "markdown",
   "metadata": {},
   "source": [
    "## Graficos De Los Datos Experimentales y Datos De Los Modelos  "
   ]
  },
  {
   "cell_type": "code",
   "execution_count": 22,
   "metadata": {},
   "outputs": [],
   "source": [
    "datosExperimentales= np.asarray(logABSiAexp)"
   ]
  },
  {
   "cell_type": "markdown",
   "metadata": {},
   "source": [
    "### Grafico Modelo Caceres"
   ]
  },
  {
   "cell_type": "code",
   "execution_count": 23,
   "metadata": {},
   "outputs": [],
   "source": [
    "def graficoCaceres(datosExperimentales,eVSHE,valoresModeloCaceresLog,nombreArchivo):\n",
    "    graficadorCaceres.figure(figsize=(20,11))\n",
    "    graficadorCaceres.plot(datosExperimentales, eVSHE, 'r+', label='Experimental')\n",
    "    graficadorCaceres.plot(valoresModeloCaceresLog,eVSHE , 'b-', label='Modelo Caceres')\n",
    "    graficadorCaceres.xlabel('Log (i/A) A cm-2')\n",
    "    graficadorCaceres.ylabel('E(Evs.SHE)')\n",
    "    graficadorCaceres.title(\"Grafico Modelo Caceres \" + nombreArchivo)\n",
    "    graficadorCaceres.legend()\n",
    "    graficadorCaceres.savefig( nombreArchivo + \"/\" + nombreArchivo + '-grafico-modelo-caceres.png', dpi = 300)\n",
    "    graficadorCaceres.show()\n",
    "    #return()"
   ]
  },
  {
   "cell_type": "markdown",
   "metadata": {},
   "source": [
    "### Grafico Modelo Beta"
   ]
  },
  {
   "cell_type": "code",
   "execution_count": 24,
   "metadata": {},
   "outputs": [],
   "source": [
    "def graficoBeta(datosExperimentales,eVSHE,valoresModeloBetaLog,nombreArchivo):\n",
    "    graficadorBeta.figure(figsize=(20,11))\n",
    "    graficadorBeta.plot(datosExperimentales, eVSHE, 'r+', label='Experimental')\n",
    "    graficadorBeta.plot(valoresModeloBetaLog,eVSHE , 'g-', label='Modelo Beta')\n",
    "    graficadorBeta.xlabel('Log (i/A) A cm-2')\n",
    "    graficadorBeta.ylabel('E(Evs.SHE)')\n",
    "    graficadorBeta.title(\"Grafico Modelo Beta \" + nombreArchivo)\n",
    "    graficadorBeta.legend()\n",
    "    graficadorBeta.savefig( nombreArchivo + \"/\" + nombreArchivo + '-grafico-modelo-beta.png', dpi = 300)\n",
    "    graficadorBeta.show()"
   ]
  },
  {
   "cell_type": "markdown",
   "metadata": {},
   "source": [
    "### Grafico Modelo Maclaurin"
   ]
  },
  {
   "cell_type": "code",
   "execution_count": 25,
   "metadata": {},
   "outputs": [],
   "source": [
    "def graficoMaclaurin(datosExperimentales,eVSHE,valoresModeloMaclaurinLog,nombreArchivo):\n",
    "    graficadorMaclaurin.figure(figsize=(20,11))\n",
    "    graficadorMaclaurin.plot(datosExperimentales, eVSHE, 'r+', label='Experimental')\n",
    "    graficadorMaclaurin.plot(valoresModeloMaclaurinLog,eVSHE , 'y-', label='Modelo Maclaurin')\n",
    "    graficadorMaclaurin.xlabel('Log (i/A) A cm-2')\n",
    "    graficadorMaclaurin.ylabel('E(Evs.SHE)')\n",
    "    graficadorMaclaurin.title(\"Grafico Modelo Maclaurin \" + nombreArchivo)\n",
    "    graficadorMaclaurin.legend()\n",
    "    graficadorMaclaurin.savefig( nombreArchivo + \"/\" + nombreArchivo + '-grafico-modelo-maclaurin.png', dpi = 300)\n",
    "    graficadorMaclaurin.show()"
   ]
  },
  {
   "cell_type": "markdown",
   "metadata": {},
   "source": [
    "### Grafico Modelo Caceres, Beta y Maclaurin"
   ]
  },
  {
   "cell_type": "code",
   "execution_count": 26,
   "metadata": {},
   "outputs": [],
   "source": [
    "def grafico3modelos(datosExperimentales,eVSHE,valoresModeloCaceresLog,valoresModeloBetaLog,valoresModeloMaclaurinLog,nombreArchivo):\n",
    "    graficador3modelos.figure(figsize=(20,11))\n",
    "    graficador3modelos.plot(datosExperimentales, eVSHE, 'r-', label='Experimental')\n",
    "    graficador3modelos.plot(valoresModeloCaceresLog,eVSHE , 'b+', label='Modelo Caceres')\n",
    "    graficador3modelos.plot(valoresModeloBetaLog,eVSHE , 'g+', label='Modelo Beta')\n",
    "    graficador3modelos.plot(valoresModeloMaclaurinLog,eVSHE , 'y+', label='Modelo Maclaurin')\n",
    "    graficador3modelos.xlabel('Log (i/A) A cm-2')\n",
    "    graficador3modelos.ylabel('E(Evs.SHE)')\n",
    "    graficador3modelos.title('Grafico 3 Modelos ' + nombreArchivo)\n",
    "    graficador3modelos.legend()\n",
    "    graficador3modelos.savefig( nombreArchivo + \"/\" + nombreArchivo + '-grafico3modelos.png', dpi = 300)\n",
    "    graficador3modelos.show()"
   ]
  },
  {
   "cell_type": "markdown",
   "metadata": {},
   "source": [
    "# Resultados Finales"
   ]
  },
  {
   "cell_type": "markdown",
   "metadata": {},
   "source": [
    "## Coeficientes Optimizados Modelo Caceres"
   ]
  },
  {
   "cell_type": "code",
   "execution_count": 27,
   "metadata": {},
   "outputs": [],
   "source": [
    "ioOptimo = valoresAjustadosCaceres[0]\n",
    "iLOptimo = valoresAjustadosCaceres[1]\n",
    "iFeOptimo= valoresAjustadosCaceres[2]\n",
    "tcOptimo       = valoresAjustadosCaceres[3]\n",
    "taOptimo       = valoresAjustadosCaceres[4]"
   ]
  },
  {
   "cell_type": "markdown",
   "metadata": {},
   "source": [
    "## Coeficientes Optmizados Modelo Beta "
   ]
  },
  {
   "cell_type": "code",
   "execution_count": 28,
   "metadata": {},
   "outputs": [],
   "source": [
    "iCorrOptimoBeta = valoresAjustadosBeta[0]\n",
    "EcorrOptimoBeta = valoresAjustadosBeta[1]\n",
    "baOptimoBeta    = valoresAjustadosBeta[2]\n",
    "BetaOptimoBeta  = valoresAjustadosBeta[3]\n",
    "bcOptimoBeta    = valoresAjustadosBeta[4]"
   ]
  },
  {
   "cell_type": "markdown",
   "metadata": {},
   "source": [
    "## Coeficientes Optimizados Modelo Maclaurin"
   ]
  },
  {
   "cell_type": "code",
   "execution_count": 29,
   "metadata": {},
   "outputs": [],
   "source": [
    "iCorrOptimoMaclaurin = valoresAjustadosMaclaurin[0]\n",
    "EcorrOptimoMaclaurin = valoresAjustadosMaclaurin[1]\n",
    "baOptimoMaclaurin    = valoresAjustadosMaclaurin[2]\n",
    "BetaOptimoMaclaurin  = valoresAjustadosMaclaurin[3]\n",
    "bcOptimoMaclaurin    = valoresAjustadosMaclaurin[4]"
   ]
  },
  {
   "cell_type": "markdown",
   "metadata": {},
   "source": [
    "# Estadigrafos"
   ]
  },
  {
   "cell_type": "markdown",
   "metadata": {},
   "source": [
    "## Modelo De Caceres "
   ]
  },
  {
   "cell_type": "code",
   "execution_count": 30,
   "metadata": {},
   "outputs": [],
   "source": [
    "PromedioDeY = np.mean(iAAcm2exp)\n",
    "DF = iAAcm2exp.size - 3\n",
    "S  = np.std(valoresModeloCaceresFit, dtype=np.float64)\n",
    "ExtremosiAAcm2exp  = iAAcm2exp[0]-iAAcm2exp[iAAcm2exp.size-1]\n",
    "\n",
    "sumatoriaDiferenciaExtremosExpFit = np.sum(np.power(ExtremosiAAcm2exp-valoresModeloCaceresFit,2))\n",
    "SEofY = matematica.sqrt(sumatoriaDiferenciaExtremosExpFit/DF)\n",
    "\n",
    "restaValores = (iAAcm2exp-valoresModeloCaceresFit)\n",
    "cuadrado =np.power(restaValores,2)\n",
    "sumatoriaExpMenosFit = np.sum(cuadrado)\n",
    "\n",
    "restaPromedio = (iAAcm2exp-PromedioDeY)\n",
    "cuadradoResta = np.power(restaPromedio,2)\n",
    "iAAcm2expMenosPromY  =  np.sum(cuadradoResta)\n",
    "\n",
    "R2 = 1-(sumatoriaExpMenosFit/iAAcm2expMenosPromY)\n",
    "\n",
    "SSE = SEofY/18\n",
    "RMSE = matematica.sqrt(SEofY)\n",
    "\n",
    "diferenciaFitExp = iAAcm2exp-valoresModeloCaceresFit\n",
    "diferenciaElevada = np.power(diferenciaFitExp,2)\n",
    "SS = diferenciaElevada/matematica.pow(S,2)\n",
    "sumatoriaSS = np.sum(SS)\n",
    "\n",
    "ChiCuadrado = sumatoriaSS/DF"
   ]
  },
  {
   "cell_type": "markdown",
   "metadata": {},
   "source": [
    "## Modelo Beta "
   ]
  },
  {
   "cell_type": "code",
   "execution_count": 31,
   "metadata": {},
   "outputs": [],
   "source": [
    "PromedioDeY = np.mean(iAAcm2exp)\n",
    "DF = iAAcm2exp.size - 3\n",
    "SBeta  = np.std(valoresModeloBetaFit, dtype=np.float64)\n",
    "ExtremosiAAcm2exp  = iAAcm2exp[0]-iAAcm2exp[iAAcm2exp.size-1]\n",
    "\n",
    "sumatoriaDiferenciaExtremosExpFitBeta = np.sum(np.power(ExtremosiAAcm2exp-valoresModeloBetaFit,2))\n",
    "SEofYBeta = matematica.sqrt(sumatoriaDiferenciaExtremosExpFitBeta/DF)\n",
    "\n",
    "restaValoresBeta = (iAAcm2exp-valoresModeloBetaFit)\n",
    "cuadradoBeta =np.power(restaValoresBeta,2)\n",
    "sumatoriaExpMenosFitBeta = np.sum(cuadradoBeta)\n",
    "\n",
    "restaPromedio = (iAAcm2exp-PromedioDeY)\n",
    "cuadradoResta = np.power(restaPromedio,2)\n",
    "iAAcm2expMenosPromY  =  np.sum(cuadradoResta)\n",
    "\n",
    "R2Beta = 1-(sumatoriaExpMenosFitBeta/iAAcm2expMenosPromY)\n",
    "\n",
    "SSEBeta = SEofYBeta/18\n",
    "RMSEBeta = matematica.sqrt(SEofYBeta)\n",
    "\n",
    "diferenciaFitExpBeta = iAAcm2exp-valoresModeloBetaFit\n",
    "diferenciaElevadaBeta = np.power(diferenciaFitExpBeta,2)\n",
    "SSBeta = diferenciaElevadaBeta/matematica.pow(SBeta,2)\n",
    "sumatoriaSSBeta = np.sum(SSBeta)\n",
    "\n",
    "ChiCuadradoBeta = sumatoriaSSBeta/DF"
   ]
  },
  {
   "cell_type": "markdown",
   "metadata": {},
   "source": [
    "## Modelo Maclaurin "
   ]
  },
  {
   "cell_type": "code",
   "execution_count": 32,
   "metadata": {},
   "outputs": [],
   "source": [
    "PromedioDeY = np.mean(iAAcm2exp)\n",
    "DF = iAAcm2exp.size - 3\n",
    "SMaclaurin  = np.std(valoresModeloMaclaurinFit, dtype=np.float64)\n",
    "ExtremosiAAcm2exp  = iAAcm2exp[0]-iAAcm2exp[iAAcm2exp.size-1]\n",
    "\n",
    "sumatoriaDiferenciaExtremosExpFitMaclaurin = np.sum(np.power(ExtremosiAAcm2exp-valoresModeloMaclaurinFit,2))\n",
    "SEofYMaclaurin = matematica.sqrt(sumatoriaDiferenciaExtremosExpFitMaclaurin/DF)\n",
    "\n",
    "restaValoresMaclaurin = (iAAcm2exp-valoresModeloMaclaurinFit)\n",
    "cuadradoMaclaurin =np.power(restaValoresMaclaurin,2)\n",
    "sumatoriaExpMenosFitMaclaurin = np.sum(cuadradoMaclaurin)\n",
    "\n",
    "restaPromedio = (iAAcm2exp-PromedioDeY)\n",
    "cuadradoResta = np.power(restaPromedio,2)\n",
    "iAAcm2expMenosPromY  =  np.sum(cuadradoResta)\n",
    "\n",
    "R2Maclaurin = 1-(sumatoriaExpMenosFitMaclaurin/iAAcm2expMenosPromY)\n",
    "\n",
    "SSEMaclaurin = SEofYMaclaurin/18\n",
    "RMSEMaclaurin = matematica.sqrt(SEofYMaclaurin)\n",
    "\n",
    "diferenciaFitExpMaclaurin = iAAcm2exp-valoresModeloMaclaurinFit\n",
    "diferenciaElevadaMaclaurin = np.power(diferenciaFitExpMaclaurin,2)\n",
    "SSMaclaurin = diferenciaElevadaMaclaurin/matematica.pow(SMaclaurin,2)\n",
    "sumatoriaSSMaclaurin = np.sum(SSMaclaurin)\n",
    "\n",
    "ChiCuadradoMaclaurin = sumatoriaSSMaclaurin/DF"
   ]
  },
  {
   "cell_type": "markdown",
   "metadata": {},
   "source": [
    "# Indice De Corrosión Caceres"
   ]
  },
  {
   "cell_type": "code",
   "execution_count": 33,
   "metadata": {},
   "outputs": [],
   "source": [
    "Ecorr = -0.25"
   ]
  },
  {
   "cell_type": "markdown",
   "metadata": {},
   "source": [
    "## Modelo De Caceres "
   ]
  },
  {
   "cell_type": "code",
   "execution_count": 34,
   "metadata": {},
   "outputs": [],
   "source": [
    "modeloCatodicoA = -ioOptimo *(np.exp(-2.3*(Ecorr-0.762)/tcOptimo))\n",
    "modeloCatodicoB = 1+((ioOptimo/iLOptimo)*(np.exp(-2.3*(Ecorr-0.762)/tcOptimo)))\n",
    "modeloCatodicoAdivididoB = modeloCatodicoA/modeloCatodicoB\n",
    "modeloAnodico = iFeOptimo*(np.exp(2.3*(Ecorr+ 0.614)/taOptimo))\n",
    "iAAcm2fit = modeloCatodicoAdivididoB + modeloAnodico"
   ]
  },
  {
   "cell_type": "code",
   "execution_count": 35,
   "metadata": {},
   "outputs": [],
   "source": [
    "indiceCorrosion = np.absolute(modeloCatodicoAdivididoB)"
   ]
  },
  {
   "cell_type": "markdown",
   "metadata": {},
   "source": [
    "# Ratio De Corrosión "
   ]
  },
  {
   "cell_type": "markdown",
   "metadata": {},
   "source": [
    "## Modelo De Caceres"
   ]
  },
  {
   "cell_type": "code",
   "execution_count": 36,
   "metadata": {},
   "outputs": [],
   "source": [
    "ratioCorrosionCaceres = 3.28* indiceCorrosion *(55.85/(2*7.88))"
   ]
  },
  {
   "cell_type": "markdown",
   "metadata": {},
   "source": [
    "## Modelo Beta"
   ]
  },
  {
   "cell_type": "code",
   "execution_count": 37,
   "metadata": {},
   "outputs": [],
   "source": [
    "ratioCorrosionBeta = 3.28* iCorrOptimoBeta *(55.85/(2*7.88))"
   ]
  },
  {
   "cell_type": "markdown",
   "metadata": {},
   "source": [
    "## Modelo Maclaurin"
   ]
  },
  {
   "cell_type": "code",
   "execution_count": 38,
   "metadata": {},
   "outputs": [],
   "source": [
    "ratioCorrosionMaclaurin = 3.28* iCorrOptimoMaclaurin *(55.85/(2*7.88))"
   ]
  },
  {
   "cell_type": "markdown",
   "metadata": {},
   "source": [
    "# Guardar Datos en Excel"
   ]
  },
  {
   "cell_type": "code",
   "execution_count": 39,
   "metadata": {},
   "outputs": [],
   "source": [
    "writer = pd.ExcelWriter(nombreArchivo + \"/\" + nombreArchivo + \".xlsx\")"
   ]
  },
  {
   "cell_type": "markdown",
   "metadata": {},
   "source": [
    "## Guardar coeficientes optimos"
   ]
  },
  {
   "cell_type": "markdown",
   "metadata": {},
   "source": [
    "### Modelo Caceres"
   ]
  },
  {
   "cell_type": "code",
   "execution_count": 40,
   "metadata": {},
   "outputs": [],
   "source": [
    "datosExcelCaceres = { 'io,O2' : pd.Series( [ioOptimo], index=['Modelo Caceres']),     \n",
    "     'iL,O2' : pd.Series([iLOptimo], index=['Modelo Caceres']),\n",
    "     'ife,O2' : pd.Series([iFeOptimo], index=['Modelo Caceres']),\n",
    "     'tc' : pd.Series([tcOptimo], index=['Modelo Caceres']),\n",
    "     'ta' : pd.Series([taOptimo], index=['Modelo Caceres'])}\n",
    "datosCaceres = pd.DataFrame(datosExcelCaceres, columns = ['io,O2', 'iL,O2', 'ife,O2', 'tc', 'ta'])"
   ]
  },
  {
   "cell_type": "code",
   "execution_count": 41,
   "metadata": {},
   "outputs": [],
   "source": [
    "datosCaceres.to_excel(writer,'Coeficientes optimos',startrow=0,startcol=0)"
   ]
  },
  {
   "cell_type": "markdown",
   "metadata": {},
   "source": [
    "### Modelo Beta y Maclaurin"
   ]
  },
  {
   "cell_type": "code",
   "execution_count": 42,
   "metadata": {},
   "outputs": [],
   "source": [
    "datosExcelBetaMaclaurin = {'iCorr' : pd.Series( [iCorrOptimoBeta,iCorrOptimoMaclaurin], index=['Modelo Beta','Modelo Maclaurin']), \n",
    "     'Ecorr' : pd.Series([EcorrOptimoBeta,EcorrOptimoMaclaurin], index=['Modelo Beta','Modelo Maclaurin']),\n",
    "     'ba' : pd.Series([baOptimoBeta,baOptimoMaclaurin], index=['Modelo Beta','Modelo Maclaurin']),\n",
    "     'Beta' : pd.Series([BetaOptimoBeta,BetaOptimoMaclaurin], index=['Modelo Beta','Modelo Maclaurin']),\n",
    "     'bc' : pd.Series([bcOptimoBeta,bcOptimoMaclaurin], index=['Modelo Beta','Modelo Maclaurin'])}\n",
    "datosBetaMaclaurin = pd.DataFrame(datosExcelBetaMaclaurin, columns = ['iCorr', 'Ecorr', 'ba', 'Beta', 'bc'])"
   ]
  },
  {
   "cell_type": "code",
   "execution_count": 43,
   "metadata": {},
   "outputs": [],
   "source": [
    "datosBetaMaclaurin.to_excel(writer,'Coeficientes optimos',startrow=4,startcol=0)"
   ]
  },
  {
   "cell_type": "markdown",
   "metadata": {},
   "source": [
    "## Guardar Indice de Corrosion y Ratio de Corrosion"
   ]
  },
  {
   "cell_type": "markdown",
   "metadata": {},
   "source": [
    "### Indice y Ratio de Corrosion de Modelo Caceres, Beta y Maclaurin"
   ]
  },
  {
   "cell_type": "code",
   "execution_count": 44,
   "metadata": {},
   "outputs": [],
   "source": [
    "datosExcelIndiceRatioCorr = {'Indice de corrosion' : pd.Series([indiceCorrosion,iCorrOptimoBeta,iCorrOptimoMaclaurin], index=['Modelo Caceres','Modelo Beta','Modelo Maclaurin']), \n",
    "     'Ratio de corrosion' : pd.Series([ratioCorrosionCaceres,ratioCorrosionBeta,ratioCorrosionMaclaurin], index=['Modelo Caceres','Modelo Beta','Modelo Maclaurin'])}\n",
    "datosIndiceRatioCorr = pd.DataFrame(datosExcelIndiceRatioCorr, columns = ['Indice de corrosion', 'Ratio de corrosion'])"
   ]
  },
  {
   "cell_type": "code",
   "execution_count": 45,
   "metadata": {},
   "outputs": [],
   "source": [
    "datosIndiceRatioCorr.to_excel(writer,'Ratio corrosion',startrow=0,startcol=0)"
   ]
  },
  {
   "cell_type": "markdown",
   "metadata": {},
   "source": [
    "## Guardar Estadigrafos"
   ]
  },
  {
   "cell_type": "markdown",
   "metadata": {},
   "source": [
    "### Estadigrafos Modelo Caceres, Beta y Maclaurin"
   ]
  },
  {
   "cell_type": "code",
   "execution_count": 46,
   "metadata": {},
   "outputs": [],
   "source": [
    "datosExcelEstadigrafos = {'SS' : pd.Series([sumatoriaSS,sumatoriaSSBeta,sumatoriaSSMaclaurin], index=['Modelo Caceres','Modelo Beta','Modelo Maclaurin']), \n",
    "     'Promedio de Y' : pd.Series([PromedioDeY,PromedioDeY,PromedioDeY], index=['Modelo Caceres','Modelo Beta','Modelo Maclaurin']),\n",
    "     'SEofY' : pd.Series([SEofY,SEofYBeta,SEofYMaclaurin], index=['Modelo Caceres','Modelo Beta','Modelo Maclaurin']),\n",
    "     'R2' : pd.Series([R2,R2Beta,R2Maclaurin], index=['Modelo Caceres','Modelo Beta','Modelo Maclaurin']),\n",
    "     'SSE' : pd.Series([SSE,SSEBeta,SSEMaclaurin], index=['Modelo Caceres','Modelo Beta','Modelo Maclaurin']),\n",
    "     'RMSE' : pd.Series([RMSE,RMSEBeta,RMSEMaclaurin], index=['Modelo Caceres','Modelo Beta','Modelo Maclaurin']),\n",
    "     'Chi-Cuadrado' : pd.Series([ChiCuadrado,ChiCuadradoBeta,ChiCuadradoMaclaurin], index=['Modelo Caceres','Modelo Beta','Modelo Maclaurin'])}\n",
    "datosEstadigrafos = pd.DataFrame(datosExcelEstadigrafos, columns = ['SS', 'Promedio de Y', 'SEofY', 'R2', 'SSE','RMSE','Chi-Cuadrado'])"
   ]
  },
  {
   "cell_type": "code",
   "execution_count": 47,
   "metadata": {},
   "outputs": [],
   "source": [
    "datosEstadigrafos.to_excel(writer,'Estadigrafos',startrow=0,startcol=0)\n",
    "writer.save()"
   ]
  },
  {
   "cell_type": "markdown",
   "metadata": {},
   "source": [
    "# Resultados Finales"
   ]
  },
  {
   "cell_type": "markdown",
   "metadata": {},
   "source": [
    "## Grafico de Modelo Caceres"
   ]
  },
  {
   "cell_type": "code",
   "execution_count": 48,
   "metadata": {},
   "outputs": [
    {
     "data": {
      "image/png": "[encoded data removed]",
      "text/plain": [
       "<Figure size 1440x792 with 1 Axes>"
      ]
     },
     "metadata": {
      "needs_background": "light"
     },
     "output_type": "display_data"
    }
   ],
   "source": [
    "graficoCaceres(datosExperimentales,eVSHE,valoresModeloCaceresLog,nombreArchivo)"
   ]
  },
  {
   "cell_type": "markdown",
   "metadata": {},
   "source": [
    "## Grafico de Modelo Beta"
   ]
  },
  {
   "cell_type": "code",
   "execution_count": 49,
   "metadata": {},
   "outputs": [
    {
     "data": {
      "image/png": "[encoded data removed]",
      "text/plain": [
       "<Figure size 1440x792 with 1 Axes>"
      ]
     },
     "metadata": {
      "needs_background": "light"
     },
     "output_type": "display_data"
    }
   ],
   "source": [
    "graficoBeta(datosExperimentales,eVSHE,valoresModeloBetaLog,nombreArchivo)"
   ]
  },
  {
   "cell_type": "markdown",
   "metadata": {},
   "source": [
    "## Grafico de Modelo Maclaurin"
   ]
  },
  {
   "cell_type": "code",
   "execution_count": 50,
   "metadata": {},
   "outputs": [
    {
     "data": {
      "image/png": "[encoded data removed]",
      "text/plain": [
       "<Figure size 1440x792 with 1 Axes>"
      ]
     },
     "metadata": {
      "needs_background": "light"
     },
     "output_type": "display_data"
    }
   ],
   "source": [
    "graficoMaclaurin(datosExperimentales,eVSHE,valoresModeloMaclaurinLog,nombreArchivo)"
   ]
  },
  {
   "cell_type": "markdown",
   "metadata": {},
   "source": [
    "## Grafico de Modelo Caceres, Beta y Maclaurin"
   ]
  },
  {
   "cell_type": "code",
   "execution_count": 51,
   "metadata": {},
   "outputs": [
    {
     "data": {
      "image/png": "[encoded data removed]",
      "text/plain": [
       "<Figure size 1440x792 with 1 Axes>"
      ]
     },
     "metadata": {
      "needs_background": "light"
     },
     "output_type": "display_data"
    }
   ],
   "source": [
    "grafico3modelos(datosExperimentales,eVSHE,valoresModeloCaceresLog,valoresModeloBetaLog,valoresModeloMaclaurinLog,nombreArchivo)"
   ]
  },
  {
   "cell_type": "markdown",
   "metadata": {},
   "source": [
    "## Tablas coeficientes optimos"
   ]
  },
  {
   "cell_type": "markdown",
   "metadata": {},
   "source": [
    "### Modelo Caceres"
   ]
  },
  {
   "cell_type": "code",
   "execution_count": 52,
   "metadata": {},
   "outputs": [
    {
     "data": {
      "text/html": [
       "<div>\n",
       "<style scoped>\n",
       "    .dataframe tbody tr th:only-of-type {\n",
       "        vertical-align: middle;\n",
       "    }\n",
       "\n",
       "    .dataframe tbody tr th {\n",
       "        vertical-align: top;\n",
       "    }\n",
       "\n",
       "    .dataframe thead th {\n",
       "        text-align: right;\n",
       "    }\n",
       "</style>\n",
       "<table border=\"1\" class=\"dataframe\">\n",
       "  <thead>\n",
       "    <tr style=\"text-align: right;\">\n",
       "      <th></th>\n",
       "      <th>io,O2</th>\n",
       "      <th>iL,O2</th>\n",
       "      <th>ife,O2</th>\n",
       "      <th>tc</th>\n",
       "      <th>ta</th>\n",
       "    </tr>\n",
       "  </thead>\n",
       "  <tbody>\n",
       "    <tr>\n",
       "      <th>Modelo Caceres</th>\n",
       "      <td>0.099344</td>\n",
       "      <td>1.0</td>\n",
       "      <td>0.082487</td>\n",
       "      <td>0.162803</td>\n",
       "      <td>0.18</td>\n",
       "    </tr>\n",
       "  </tbody>\n",
       "</table>\n",
       "</div>"
      ],
      "text/plain": [
       "                   io,O2  iL,O2    ife,O2        tc    ta\n",
       "Modelo Caceres  0.099344    1.0  0.082487  0.162803  0.18"
      ]
     },
     "execution_count": 52,
     "metadata": {},
     "output_type": "execute_result"
    }
   ],
   "source": [
    "datosCaceres"
   ]
  },
  {
   "cell_type": "markdown",
   "metadata": {},
   "source": [
    "### Modelo Beta y Maclaurin"
   ]
  },
  {
   "cell_type": "code",
   "execution_count": 53,
   "metadata": {},
   "outputs": [
    {
     "data": {
      "text/html": [
       "<div>\n",
       "<style scoped>\n",
       "    .dataframe tbody tr th:only-of-type {\n",
       "        vertical-align: middle;\n",
       "    }\n",
       "\n",
       "    .dataframe tbody tr th {\n",
       "        vertical-align: top;\n",
       "    }\n",
       "\n",
       "    .dataframe thead th {\n",
       "        text-align: right;\n",
       "    }\n",
       "</style>\n",
       "<table border=\"1\" class=\"dataframe\">\n",
       "  <thead>\n",
       "    <tr style=\"text-align: right;\">\n",
       "      <th></th>\n",
       "      <th>iCorr</th>\n",
       "      <th>Ecorr</th>\n",
       "      <th>ba</th>\n",
       "      <th>Beta</th>\n",
       "      <th>bc</th>\n",
       "    </tr>\n",
       "  </thead>\n",
       "  <tbody>\n",
       "    <tr>\n",
       "      <th>Modelo Beta</th>\n",
       "      <td>3.0</td>\n",
       "      <td>-0.250</td>\n",
       "      <td>0.099614</td>\n",
       "      <td>0.04</td>\n",
       "      <td>0.18</td>\n",
       "    </tr>\n",
       "    <tr>\n",
       "      <th>Modelo Maclaurin</th>\n",
       "      <td>3.0</td>\n",
       "      <td>-0.244</td>\n",
       "      <td>0.104471</td>\n",
       "      <td>0.04</td>\n",
       "      <td>0.18</td>\n",
       "    </tr>\n",
       "  </tbody>\n",
       "</table>\n",
       "</div>"
      ],
      "text/plain": [
       "                  iCorr  Ecorr        ba  Beta    bc\n",
       "Modelo Beta         3.0 -0.250  0.099614  0.04  0.18\n",
       "Modelo Maclaurin    3.0 -0.244  0.104471  0.04  0.18"
      ]
     },
     "execution_count": 53,
     "metadata": {},
     "output_type": "execute_result"
    }
   ],
   "source": [
    "datosBetaMaclaurin"
   ]
  },
  {
   "cell_type": "markdown",
   "metadata": {},
   "source": [
    "## Tabla Indice de Corrosion y Ratio de Corrosion de Modelo Caceres, Beta y Maclaurin"
   ]
  },
  {
   "cell_type": "code",
   "execution_count": 54,
   "metadata": {},
   "outputs": [
    {
     "data": {
      "text/html": [
       "<div>\n",
       "<style scoped>\n",
       "    .dataframe tbody tr th:only-of-type {\n",
       "        vertical-align: middle;\n",
       "    }\n",
       "\n",
       "    .dataframe tbody tr th {\n",
       "        vertical-align: top;\n",
       "    }\n",
       "\n",
       "    .dataframe thead th {\n",
       "        text-align: right;\n",
       "    }\n",
       "</style>\n",
       "<table border=\"1\" class=\"dataframe\">\n",
       "  <thead>\n",
       "    <tr style=\"text-align: right;\">\n",
       "      <th></th>\n",
       "      <th>Indice de corrosion</th>\n",
       "      <th>Ratio de corrosion</th>\n",
       "    </tr>\n",
       "  </thead>\n",
       "  <tbody>\n",
       "    <tr>\n",
       "      <th>Modelo Caceres</th>\n",
       "      <td>0.999994</td>\n",
       "      <td>11.623532</td>\n",
       "    </tr>\n",
       "    <tr>\n",
       "      <th>Modelo Beta</th>\n",
       "      <td>3.000000</td>\n",
       "      <td>34.870812</td>\n",
       "    </tr>\n",
       "    <tr>\n",
       "      <th>Modelo Maclaurin</th>\n",
       "      <td>3.000000</td>\n",
       "      <td>34.870812</td>\n",
       "    </tr>\n",
       "  </tbody>\n",
       "</table>\n",
       "</div>"
      ],
      "text/plain": [
       "                  Indice de corrosion  Ratio de corrosion\n",
       "Modelo Caceres               0.999994           11.623532\n",
       "Modelo Beta                  3.000000           34.870812\n",
       "Modelo Maclaurin             3.000000           34.870812"
      ]
     },
     "execution_count": 54,
     "metadata": {},
     "output_type": "execute_result"
    }
   ],
   "source": [
    "datosIndiceRatioCorr"
   ]
  },
  {
   "cell_type": "markdown",
   "metadata": {},
   "source": [
    "## Tabla Estadigrafos de Modelo Caceres, Beta y Maclaurin"
   ]
  },
  {
   "cell_type": "code",
   "execution_count": 55,
   "metadata": {},
   "outputs": [
    {
     "data": {
      "text/html": [
       "<div>\n",
       "<style scoped>\n",
       "    .dataframe tbody tr th:only-of-type {\n",
       "        vertical-align: middle;\n",
       "    }\n",
       "\n",
       "    .dataframe tbody tr th {\n",
       "        vertical-align: top;\n",
       "    }\n",
       "\n",
       "    .dataframe thead th {\n",
       "        text-align: right;\n",
       "    }\n",
       "</style>\n",
       "<table border=\"1\" class=\"dataframe\">\n",
       "  <thead>\n",
       "    <tr style=\"text-align: right;\">\n",
       "      <th></th>\n",
       "      <th>SS</th>\n",
       "      <th>Promedio de Y</th>\n",
       "      <th>SEofY</th>\n",
       "      <th>R2</th>\n",
       "      <th>SSE</th>\n",
       "      <th>RMSE</th>\n",
       "      <th>Chi-Cuadrado</th>\n",
       "    </tr>\n",
       "  </thead>\n",
       "  <tbody>\n",
       "    <tr>\n",
       "      <th>Modelo Caceres</th>\n",
       "      <td>2229.943805</td>\n",
       "      <td>-10.422675</td>\n",
       "      <td>148.816464</td>\n",
       "      <td>0.156215</td>\n",
       "      <td>8.267581</td>\n",
       "      <td>12.199035</td>\n",
       "      <td>7.716069</td>\n",
       "    </tr>\n",
       "    <tr>\n",
       "      <th>Modelo Beta</th>\n",
       "      <td>889.439174</td>\n",
       "      <td>-10.422675</td>\n",
       "      <td>141.163447</td>\n",
       "      <td>0.477326</td>\n",
       "      <td>7.842414</td>\n",
       "      <td>11.881222</td>\n",
       "      <td>3.077644</td>\n",
       "    </tr>\n",
       "    <tr>\n",
       "      <th>Modelo Maclaurin</th>\n",
       "      <td>1323.929080</td>\n",
       "      <td>-10.422675</td>\n",
       "      <td>139.799684</td>\n",
       "      <td>0.431625</td>\n",
       "      <td>7.766649</td>\n",
       "      <td>11.823692</td>\n",
       "      <td>4.581069</td>\n",
       "    </tr>\n",
       "  </tbody>\n",
       "</table>\n",
       "</div>"
      ],
      "text/plain": [
       "                           SS  Promedio de Y       SEofY        R2       SSE  \\\n",
       "Modelo Caceres    2229.943805     -10.422675  148.816464  0.156215  8.267581   \n",
       "Modelo Beta        889.439174     -10.422675  141.163447  0.477326  7.842414   \n",
       "Modelo Maclaurin  1323.929080     -10.422675  139.799684  0.431625  7.766649   \n",
       "\n",
       "                       RMSE  Chi-Cuadrado  \n",
       "Modelo Caceres    12.199035      7.716069  \n",
       "Modelo Beta       11.881222      3.077644  \n",
       "Modelo Maclaurin  11.823692      4.581069  "
      ]
     },
     "execution_count": 55,
     "metadata": {},
     "output_type": "execute_result"
    }
   ],
   "source": [
    "datosEstadigrafos"
   ]
  }
 ],
 "metadata": {
  "kernelspec": {
   "display_name": "Python 3",
   "language": "python",
   "name": "python3"
  },
  "language_info": {
   "codemirror_mode": {
    "name": "ipython",
    "version": 3
   },
   "file_extension": ".py",
   "mimetype": "text/x-python",
   "name": "python",
   "nbconvert_exporter": "python",
   "pygments_lexer": "ipython3",
   "version": "3.7.4"
  }
 },
 "nbformat": 4,
 "nbformat_minor": 2
}
